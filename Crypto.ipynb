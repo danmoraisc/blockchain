{
  "nbformat": 4,
  "nbformat_minor": 0,
  "metadata": {
    "colab": {
      "provenance": [],
      "collapsed_sections": [
        "ulnKCLGZR1pz"
      ]
    },
    "kernelspec": {
      "name": "python3",
      "display_name": "Python 3"
    },
    "language_info": {
      "name": "python"
    }
  },
  "cells": [
    {
      "cell_type": "markdown",
      "metadata": {
        "id": "cMssAH3HRy2h"
      },
      "source": [
        "# Crypto"
      ]
    },
    {
      "cell_type": "markdown",
      "metadata": {
        "id": "ulnKCLGZR1pz"
      },
      "source": [
        "## Hash"
      ]
    },
    {
      "cell_type": "code",
      "metadata": {
        "colab": {
          "base_uri": "https://localhost:8080/"
        },
        "id": "AohhnzVzRZKm",
        "outputId": "cfba32e8-1e90-4929-ddad-66817fa01193"
      },
      "source": [
        "pip install pycrypto"
      ],
      "execution_count": null,
      "outputs": [
        {
          "output_type": "stream",
          "name": "stdout",
          "text": [
            "Collecting pycrypto\n",
            "  Downloading pycrypto-2.6.1.tar.gz (446 kB)\n",
            "\u001b[K     |████████████████████████████████| 446 kB 5.3 MB/s \n",
            "\u001b[?25hBuilding wheels for collected packages: pycrypto\n",
            "  Building wheel for pycrypto (setup.py) ... \u001b[?25l\u001b[?25hdone\n",
            "  Created wheel for pycrypto: filename=pycrypto-2.6.1-cp37-cp37m-linux_x86_64.whl size=499932 sha256=02271ed0c32a3264e863fc086913df14e0452b723cf6e746a18e22ae2745636b\n",
            "  Stored in directory: /root/.cache/pip/wheels/cf/85/ba/bbd7c96add459de7598fb424e5ff2309baf2095c844ac0f191\n",
            "Successfully built pycrypto\n",
            "Installing collected packages: pycrypto\n",
            "Successfully installed pycrypto-2.6.1\n"
          ]
        }
      ]
    },
    {
      "cell_type": "code",
      "metadata": {
        "id": "mzQfjEv3RlFq"
      },
      "source": [
        "from Crypto.Hash import SHA256\n",
        "import hashlib"
      ],
      "execution_count": null,
      "outputs": []
    },
    {
      "cell_type": "code",
      "metadata": {
        "id": "UZjOCRVZRnas"
      },
      "source": [
        "'''\n",
        "Essa função gera um numero hash  a partir do argumento 'data'\n",
        "'''\n",
        "\n",
        "def gerarHash(data):\n",
        "  return hashlib.sha256(str(data).encode('utf-8')).hexdigest()"
      ],
      "execution_count": null,
      "outputs": []
    },
    {
      "cell_type": "code",
      "metadata": {
        "id": "x56kqih8RnVe"
      },
      "source": [
        "'''\n",
        "Essa função compara dois numeros hash's  e retorna se são identicos na forma de 'True' or 'False'\n",
        "'''\n",
        "\n",
        "def checarHash(testeA, testeB):\n",
        "  return gerarHash(testeA) == gerarHash(testeB)"
      ],
      "execution_count": null,
      "outputs": []
    },
    {
      "cell_type": "code",
      "metadata": {
        "id": "rLExHPchRnOq"
      },
      "source": [
        "'''\n",
        "A função main faz uso da função de gerar hash e da de comparar hash,\n",
        "nela se coloca a chave 'privada'  (no caso 'cadeia1' e 'cadeira2') a ser lida e gerada a partir das funções,\n",
        "e posteriormente comparadas pra verificar se são identicas.\n",
        "'''\n",
        "\n",
        "def main():\n",
        "  cadeia1 = 'SSC0540-' #menos\n",
        "  cadeia2 = 'SSC0540_' #underline\n",
        "  cadeia_hash = gerarHash(cadeia1)\n",
        "  print(\"hash da primera cadeia: \", cadeia_hash)\n",
        "  cadeia_hash = gerarHash(cadeia2)\n",
        "  print(\"hash da segunda cadeia: \", cadeia_hash)\n",
        "  verificador = checarHash(cadeia1, cadeia2)\n",
        "  print(\"Cadeias iguais? \", verificador)"
      ],
      "execution_count": null,
      "outputs": []
    },
    {
      "cell_type": "code",
      "metadata": {
        "colab": {
          "base_uri": "https://localhost:8080/"
        },
        "id": "cCTeYDipRnHA",
        "outputId": "4d378b39-44a7-4a24-acd9-247fe8831c2f"
      },
      "source": [
        "if __name__ == \"__main__\":\n",
        "    main()"
      ],
      "execution_count": null,
      "outputs": [
        {
          "output_type": "stream",
          "name": "stdout",
          "text": [
            "hash da primera cadeia:  d920f7010f47c6c36a9972f67d4db9690b1260ed29d195413ccf904255507056\n",
            "hash da segunda cadeia:  c49ca96d6c844532c5ac8c19f4510e0fc1813e539e918c06927afc06a3979f8f\n",
            "Cadeias iguais?  False\n"
          ]
        }
      ]
    },
    {
      "cell_type": "markdown",
      "metadata": {
        "id": "gLu1d4JZRvB2"
      },
      "source": [
        "função main reconstruida"
      ]
    },
    {
      "cell_type": "code",
      "metadata": {
        "colab": {
          "base_uri": "https://localhost:8080/"
        },
        "id": "QUQYcZuwRm_s",
        "outputId": "8f317b49-adf6-42fb-9af4-d0d8428a5f20"
      },
      "source": [
        "def main(keyPrivada1,keyPrivada2):\n",
        "\n",
        "  keyPrivada1 = str(keyPrivada1)\n",
        "  keyPrivada2 = str(keyPrivada2)\n",
        "  print(f'Key1: {type(keyPrivada1)} and Key2: {type(keyPrivada2)}')\n",
        "\n",
        "  cadeiaHash1 = gerarHash(keyPrivada1)\n",
        "  print(\"hash da primera cadeia: \", cadeiaHash1)\n",
        "  cadeiaHash2 = gerarHash(keyPrivada2)\n",
        "  print(\"hash da segunda cadeia: \", cadeiaHash2)\n",
        "  verificador = checarHash(keyPrivada1, keyPrivada2)\n",
        "  print(\"Cadeias iguais? \", verificador)\n",
        "\n",
        "main('SSC0540-','SSC0540_')"
      ],
      "execution_count": null,
      "outputs": [
        {
          "output_type": "stream",
          "name": "stdout",
          "text": [
            "Key1: <class 'str'> and Key2: <class 'str'>\n",
            "hash da primera cadeia:  d920f7010f47c6c36a9972f67d4db9690b1260ed29d195413ccf904255507056\n",
            "hash da segunda cadeia:  c49ca96d6c844532c5ac8c19f4510e0fc1813e539e918c06927afc06a3979f8f\n",
            "Cadeias iguais?  False\n"
          ]
        }
      ]
    },
    {
      "cell_type": "markdown",
      "metadata": {
        "id": "R3Qn4xbVRxqi"
      },
      "source": [
        "## Crypto Key Simetric\n",
        "\n",
        "    This code is based on https://cutt.ly/uv5yddP"
      ]
    },
    {
      "cell_type": "code",
      "metadata": {
        "colab": {
          "base_uri": "https://localhost:8080/"
        },
        "id": "XWJLAmH2R-6S",
        "outputId": "45583980-7a68-43fc-a57b-6f6ebc241bdb"
      },
      "source": [
        "#instalando biblioteca de algoritimo de chave simetrica: 'pyDes'\n",
        "!pip install pYDes"
      ],
      "execution_count": null,
      "outputs": [
        {
          "output_type": "stream",
          "name": "stdout",
          "text": [
            "Requirement already satisfied: pYDes in /usr/local/lib/python3.7/dist-packages (2.0.1)\n"
          ]
        }
      ]
    },
    {
      "cell_type": "code",
      "metadata": {
        "id": "7SoYXMyZR_bc"
      },
      "source": [
        "#importando biblioteca de algoritimo de chave simetrica, nesse caso 'pyDes':\n",
        "import pyDes"
      ],
      "execution_count": null,
      "outputs": []
    },
    {
      "cell_type": "code",
      "metadata": {
        "id": "RD-uqviLR_Vu"
      },
      "source": [
        "data = b\"Please encrypt my data\""
      ],
      "execution_count": null,
      "outputs": []
    },
    {
      "cell_type": "code",
      "metadata": {
        "id": "0Mfq7O2PR_JU"
      },
      "source": [
        "k = pyDes.des(\"DESCRYPT\", pyDes.CBC, b\"\\0\\0\\0\\0\\0\\0\\0\\0\", pad=None, padmode=pyDes.PAD_PKCS5)\n",
        "d = k.encrypt(data)"
      ],
      "execution_count": null,
      "outputs": []
    },
    {
      "cell_type": "code",
      "metadata": {
        "colab": {
          "base_uri": "https://localhost:8080/"
        },
        "id": "zelPa3J0SFfk",
        "outputId": "7226e6b5-2eb0-42bb-eabc-fe2239757fd2"
      },
      "source": [
        "print(\"Encrypted: %r\" % d)\n",
        "print(\"Decrypted: %r\" % k.decrypt(d))\n",
        "assert k.decrypt(d) == data, \"something went wrong\""
      ],
      "execution_count": null,
      "outputs": [
        {
          "output_type": "stream",
          "name": "stdout",
          "text": [
            "Encrypted: b'o\\xceSef\\xe6\\xa6\\x8f\\x82\\x98\\xc7V\\xd0I\\xdc\\x03\\x1e\\x97\\xe4\\x99&\\x07\\x9cI'\n",
            "Decrypted: b'Please encrypt my data'\n"
          ]
        }
      ]
    },
    {
      "cell_type": "markdown",
      "metadata": {
        "id": "zINy7TLbW__d"
      },
      "source": [
        "## Crypto Key Assimetric\n",
        "\n",
        "\n",
        "    This code is based on https://cutt.ly/Yv5dCug and https://cutt.ly/hv5fSWZ\n",
        "\n"
      ]
    },
    {
      "cell_type": "code",
      "metadata": {
        "colab": {
          "base_uri": "https://localhost:8080/"
        },
        "id": "Ewh1e4SbW_tV",
        "outputId": "176a43e0-cbe5-483b-f4dc-c706d196d537"
      },
      "source": [
        "!pip install pycrypto"
      ],
      "execution_count": null,
      "outputs": [
        {
          "output_type": "stream",
          "name": "stdout",
          "text": [
            "Requirement already satisfied: pycrypto in /usr/local/lib/python3.7/dist-packages (2.6.1)\n"
          ]
        }
      ]
    },
    {
      "cell_type": "code",
      "metadata": {
        "id": "bwxdQz6SXKFc"
      },
      "source": [
        "from Crypto.Hash import SHA256\n",
        "from Crypto.PublicKey import RSA\n",
        "from Crypto import Random"
      ],
      "execution_count": null,
      "outputs": []
    },
    {
      "cell_type": "code",
      "metadata": {
        "id": "KrnPWYGpXLUh"
      },
      "source": [
        "def generate_keys():\n",
        "    modulus_lenght = 256 * 4\n",
        "    private_key = RSA.generate(modulus_lenght, Random.new().read)\n",
        "    public_key = private_key.publickey()\n",
        "    return private_key, public_key"
      ],
      "execution_count": null,
      "outputs": []
    },
    {
      "cell_type": "code",
      "metadata": {
        "id": "O95_ZlToXMvR"
      },
      "source": [
        "def encode(public_key, data):\n",
        "  return public_key.encrypt(data, 32)"
      ],
      "execution_count": null,
      "outputs": []
    },
    {
      "cell_type": "code",
      "metadata": {
        "id": "r5o8MB3-XPyV"
      },
      "source": [
        "def decode(private_key, encoded_data):\n",
        "  return private_key.decrypt(encoded_data)"
      ],
      "execution_count": null,
      "outputs": []
    },
    {
      "cell_type": "code",
      "metadata": {
        "colab": {
          "base_uri": "https://localhost:8080/"
        },
        "id": "e4TJ9uGhXQL3",
        "outputId": "c4d7163b-0726-4071-f359-1a6ff8da7fb5"
      },
      "source": [
        "private_key, public_key = generate_keys()\n",
        "\n",
        "message = \"Blockchain course\".encode('utf-8')\n",
        "\n",
        "encoded = encode(public_key, message)\n",
        "print(encoded)\n",
        "\n",
        "decoded = decode(private_key, encoded)\n",
        "print(decoded)"
      ],
      "execution_count": null,
      "outputs": [
        {
          "output_type": "stream",
          "name": "stdout",
          "text": [
            "(b'5Tqj\\xa9\\xc9IrI C\\x89y^S\\xf6\\xefhZz(\\x9a\\x1f\\xde\\xa6\\x1f\\xc5\\xb0L7?_\\xa7\\xec\\x08`\\xe9\\x8e1d5}\\x8d\\x1b\\x1b\\xc0l\\x1d3\\x05\\x02{-\\xe2\\xf9\\xf3\\x02\\x062\\xe8\\xca\\xd6\\x9fd\\xdc\\xd8\\n\\x9cq\\xf5#\\x99\\xa9\\xc1\\xa7i\\xb3\\xfa`\\xd5\\xbc\\x17\\xb0V\\x0e\\xe7\\xe9\\x99\\x82\\x95\\xc7D\\xacP39{:\\x96J}*\\x90\\x89S\\xa1\\xe5J\\xd8\\xe3A*\\xdf\\x82%\\x9cSJ\\xb6\\x18\\x16\\xd0\\xd9\\x9d9\\xce\\xeb#',)\n",
            "b'Blockchain course'\n"
          ]
        }
      ]
    },
    {
      "cell_type": "markdown",
      "metadata": {
        "id": "OyFDbfwfXR9L"
      },
      "source": [
        "## Cryto Blockchain\n",
        "\n",
        "    Code based on https://cutt.ly/qbfVQ6U"
      ]
    },
    {
      "cell_type": "code",
      "metadata": {
        "colab": {
          "base_uri": "https://localhost:8080/"
        },
        "id": "kFrTialhXWyv",
        "outputId": "930f8307-6d6c-46fe-ca39-5994b9b1b7eb"
      },
      "source": [
        "!pip install pycrypto"
      ],
      "execution_count": null,
      "outputs": [
        {
          "output_type": "stream",
          "name": "stdout",
          "text": [
            "Requirement already satisfied: pycrypto in /usr/local/lib/python3.7/dist-packages (2.6.1)\n"
          ]
        }
      ]
    },
    {
      "cell_type": "code",
      "metadata": {
        "id": "QooWI6YTXWuF"
      },
      "source": [
        "from hashlib import sha256\n",
        "import json\n",
        "import time\n",
        "from datetime import datetime\n",
        "\n",
        "from flask import Flask, request\n",
        "import requests"
      ],
      "execution_count": null,
      "outputs": []
    },
    {
      "cell_type": "code",
      "metadata": {
        "id": "bXXXGEzIXWlT"
      },
      "source": [
        "class Block:\n",
        "    def __init__(self, index, transactions, timestamp, previous_hash):\n",
        "        self.index = index\n",
        "        self.transactions = transactions\n",
        "        self.timestamp = timestamp\n",
        "        self.previous_hash = previous_hash\n",
        "        self.nonce = 0\n",
        "        self.hash = 0\n",
        "\n",
        "\n",
        "    def compute_hash(self):\n",
        "        \"\"\"\n",
        "        A function that return the hash of the block contents.\n",
        "        \"\"\"\n",
        "        block_string = json.dumps(self.__dict__, sort_keys=True)\n",
        "        self.hash = sha256(block_string.encode()).hexdigest()\n",
        "        return self.hash"
      ],
      "execution_count": null,
      "outputs": []
    },
    {
      "cell_type": "code",
      "metadata": {
        "id": "yqVM7OtdXhZd"
      },
      "source": [
        "class Blockchain:\n",
        "    # difficulty of our PoW algorithm\n",
        "    difficulty = 4\n",
        "\n",
        "    def __init__(self):\n",
        "        self.unconfirmed_transactions = []\n",
        "        self.chain = []\n",
        "        self.create_genesis_block()\n",
        "\n",
        "\n",
        "    def create_genesis_block(self):\n",
        "        \"\"\"\n",
        "        A function to generate genesis block and appends it to\n",
        "        the chain. The block has index 0, previous_hash as 0, and\n",
        "        a valid hash.\n",
        "        \"\"\"\n",
        "        genesis_block = Block(0, [], time.time(), \"0\")\n",
        "        genesis_block.hash = genesis_block.compute_hash()\n",
        "        self.chain.append(genesis_block)\n",
        "\n",
        "    def last_block(self):\n",
        "        return self.chain[-1]\n",
        "\n",
        "    def add_block(self, block, proof):\n",
        "        \"\"\"\n",
        "        A function that adds the block to the chain after verification.\n",
        "        Verification includes:\n",
        "        * Checking if the proof is valid.\n",
        "        * The previous_hash referred in the block and the hash of latest block\n",
        "          in the chain match.\n",
        "        \"\"\"\n",
        "        previous_hash = self.last_block().hash\n",
        "\n",
        "        if previous_hash != block.previous_hash:\n",
        "            return False\n",
        "\n",
        "        if not self.is_valid_proof(block, proof):\n",
        "\n",
        "            block.hash = proof\n",
        "            self.chain.append(block)\n",
        "            print(\"block added on chain\")\n",
        "            return True\n",
        "\n",
        "\n",
        "    def is_valid_proof(self, block, block_hash):\n",
        "        \"\"\"\n",
        "        Check if block_hash is valid hash of block and satisfies\n",
        "        the difficulty criteria.\n",
        "        \"\"\"\n",
        "\n",
        "        return (block_hash.startswith('0' * Blockchain.difficulty) and\n",
        "                block_hash == block.compute_hash())\n",
        "\n",
        "    def proof_of_work(self, block):\n",
        "        \"\"\"\n",
        "        Function that tries different values of nonce to get a hash\n",
        "        that satisfies our difficulty criteria.\n",
        "        \"\"\"\n",
        "        block.nonce = 0\n",
        "\n",
        "        computed_hash = block.compute_hash()\n",
        "        while not computed_hash.startswith('0' * Blockchain.difficulty):\n",
        "            block.nonce += 1\n",
        "            computed_hash = block.compute_hash()\n",
        "\n",
        "        return computed_hash\n",
        "\n",
        "    def add_new_transaction(self, transaction):\n",
        "        self.unconfirmed_transactions.append(transaction)\n",
        "\n",
        "    def mine(self):\n",
        "        \"\"\"\n",
        "        This function serves as an interface to add the pending\n",
        "        transactions to the blockchain by adding them to the block\n",
        "        and figuring out Proof Of Work.\n",
        "        \"\"\"\n",
        "\n",
        "        print(\"untxs: \", self.unconfirmed_transactions)\n",
        "        print(\"mining...\")\n",
        "\n",
        "        if not self.unconfirmed_transactions:\n",
        "            return False\n",
        "\n",
        "        last_block = self.last_block()\n",
        "        #print(\"last block hash:\", last_block.hash)\n",
        "\n",
        "        new_block = Block(index=last_block.index + 1,\n",
        "                          transactions=self.unconfirmed_transactions,\n",
        "                          timestamp=time.time(),\n",
        "                          previous_hash=last_block.hash)\n",
        "\n",
        "\n",
        "        proof = self.proof_of_work(new_block)\n",
        "\n",
        "\n",
        "        self.add_block(new_block, proof)\n",
        "\n",
        "        self.unconfirmed_transactions = []\n",
        "\n",
        "        return new_block.index\n"
      ],
      "execution_count": null,
      "outputs": []
    },
    {
      "cell_type": "code",
      "metadata": {
        "id": "yE8V6LzGXWTL"
      },
      "source": [
        "def main():\n",
        "  #create genesis block\n",
        "  blockchain = Blockchain()\n",
        "\n",
        "  #examples of transactions for 5 blocks\n",
        "\n",
        "  txs_for_block_1 = [\"a->b\",\"d->s\"]\n",
        "  txs_for_block_2 = [\"g->o\",\"e->p\",\"t->i\"]\n",
        "  txs_for_block_3 = [\"u->a\",\"w->t\"]\n",
        "  txs_for_block_4 = [\"q->b\",\"c->n\",\"a->b\",\"u->y\"]\n",
        "  txs_for_block_5 = [\"g->r\",\"f->g\"]\n",
        "\n",
        "  #transactions list\n",
        "  transactions = [txs_for_block_1,txs_for_block_2,txs_for_block_3,\n",
        "                  txs_for_block_4,txs_for_block_5]\n",
        "\n",
        "  #loop generate 5 blocks from transaction lists\n",
        "  for i in range (1,5):\n",
        "\n",
        "      blockchain.add_new_transaction(transactions[i])\n",
        "      block_index = blockchain.mine()\n",
        "\n",
        " #show blockchain\n",
        "\n",
        "  print(\"\\nchain: \\n\")\n",
        "  for block in blockchain.chain:\n",
        "      print(block.__dict__)"
      ],
      "execution_count": null,
      "outputs": []
    },
    {
      "cell_type": "code",
      "metadata": {
        "colab": {
          "base_uri": "https://localhost:8080/"
        },
        "id": "iZMtvQG_XjsP",
        "outputId": "836d9615-1ca0-4e8b-81d2-b6fa1a1bdf3e"
      },
      "source": [
        "if __name__ == \"__main__\":\n",
        "    main()"
      ],
      "execution_count": null,
      "outputs": [
        {
          "output_type": "stream",
          "name": "stdout",
          "text": [
            "untxs:  [['g->o', 'e->p', 't->i']]\n",
            "mining...\n",
            "block added on chain\n",
            "untxs:  [['u->a', 'w->t']]\n",
            "mining...\n",
            "block added on chain\n",
            "untxs:  [['q->b', 'c->n', 'a->b', 'u->y']]\n",
            "mining...\n",
            "block added on chain\n",
            "untxs:  [['g->r', 'f->g']]\n",
            "mining...\n",
            "block added on chain\n",
            "\n",
            "chain: \n",
            "\n",
            "{'index': 0, 'transactions': [], 'timestamp': 1640035123.0308537, 'previous_hash': '0', 'nonce': 0, 'hash': 'f112804cddd47841c251dede5d465bcf8c447ed02637f5f24050156273645a34'}\n",
            "{'index': 1, 'transactions': [['g->o', 'e->p', 't->i']], 'timestamp': 1640035123.0324721, 'previous_hash': 'f112804cddd47841c251dede5d465bcf8c447ed02637f5f24050156273645a34', 'nonce': 46390, 'hash': '0000f9dbadfa4b7d76d3c3607d103aa1fcf470ae0c7e9868a7ba4589ed446baa'}\n",
            "{'index': 2, 'transactions': [['u->a', 'w->t']], 'timestamp': 1640035123.5757694, 'previous_hash': '0000f9dbadfa4b7d76d3c3607d103aa1fcf470ae0c7e9868a7ba4589ed446baa', 'nonce': 8453, 'hash': '000070509471a2d0f9181a6d344e1348e3bd385184131fd725f5642bf1dddb5c'}\n",
            "{'index': 3, 'transactions': [['q->b', 'c->n', 'a->b', 'u->y']], 'timestamp': 1640035123.6728199, 'previous_hash': '000070509471a2d0f9181a6d344e1348e3bd385184131fd725f5642bf1dddb5c', 'nonce': 22787, 'hash': '0000faaedd91e173343be1c77915ebf02ca6731698bc30493eee9e39959b47e2'}\n",
            "{'index': 4, 'transactions': [['g->r', 'f->g']], 'timestamp': 1640035123.961344, 'previous_hash': '0000faaedd91e173343be1c77915ebf02ca6731698bc30493eee9e39959b47e2', 'nonce': 63143, 'hash': '0000317610cd28a7b16e579607868ecedf9c91a3f2c6a12fa5d46879251559b5'}\n"
          ]
        }
      ]
    }
  ]
}